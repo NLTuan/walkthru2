{
 "cells": [
  {
   "cell_type": "markdown",
   "id": "8349c928-f4b1-4d98-a82e-105c4736275b",
   "metadata": {},
   "source": [
    "## \"yo\""
   ]
  },
  {
   "cell_type": "code",
   "execution_count": null,
   "id": "91941026-64a8-47ba-a72f-f6ba99c35dab",
   "metadata": {},
   "outputs": [],
   "source": []
  }
 ],
 "metadata": {
  "kernelspec": {
   "display_name": "Python 3 (ipykernel)",
   "language": "python",
   "name": "python3"
  },
  "language_info": {
   "codemirror_mode": {
    "name": "ipython",
    "version": 3
   },
   "file_extension": ".py",
   "mimetype": "text/x-python",
   "name": "python",
   "nbconvert_exporter": "python",
   "pygments_lexer": "ipython3",
   "version": "3.12.4"
  }
 },
 "nbformat": 4,
 "nbformat_minor": 5
}
